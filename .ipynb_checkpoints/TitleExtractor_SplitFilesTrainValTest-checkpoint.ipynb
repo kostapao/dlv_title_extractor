{
 "cells": [
  {
   "cell_type": "markdown",
   "id": "4ea84e50-e37c-496e-9be1-dd5500d714d5",
   "metadata": {},
   "source": [
    "## Import Packages"
   ]
  },
  {
   "cell_type": "code",
   "execution_count": 1,
   "id": "0809222d-4eba-492a-804d-cffe4f1dda16",
   "metadata": {},
   "outputs": [],
   "source": [
    "import os\n",
    "import random\n",
    "import shutil"
   ]
  },
  {
   "cell_type": "code",
   "execution_count": 9,
   "id": "5bfbfa18-4ed0-4c18-a34e-56218996d2e8",
   "metadata": {},
   "outputs": [],
   "source": [
    "source = './data/slides_images'\n",
    "\n",
    "dest_train = './data/train/images'\n",
    "dest_test = './data/test/images'\n",
    "dest_val = './data/val/images'\n",
    "\n",
    "path_xml_annotations = \"./data/xml_annotations\"\n",
    "\n",
    "files = os.listdir(source)\n",
    "\n",
    "#Remove hidden folders/files\n",
    "for file in files:\n",
    "    if file[0]==\".\":\n",
    "        files.remove(file)\n",
    "        \n",
    "no_of_total_files = len(files)\n",
    "#print(no_of_total_files)\n",
    "\n",
    "no_of_trainfiles = round(len(files) * 0.7)\n",
    "#print(no_of_trainfiles)\n",
    "\n",
    "\n"
   ]
  },
  {
   "cell_type": "code",
   "execution_count": 10,
   "id": "1a60f4fe-add9-4c88-853a-7c44972d3e91",
   "metadata": {},
   "outputs": [],
   "source": [
    "#Randomly copy 70% of images from slides_images-folder to train-folder\n",
    "#voc2coco requires txt file with all the xml-paths\n",
    "train_path_file = open(\"./data/train/file_paths_train.txt\", \"w+\")\n",
    "\n",
    "train_list = random.sample(files, no_of_trainfiles)\n",
    "\n",
    "#print(sorted(train_list))\n",
    "\n",
    "for file_name in train_list:\n",
    "    #create path file for voc2coco\n",
    "    train_path_file.write(os.path.join(path_xml_annotations, file_name[:-3]+\"xml\") + \"\\n\")\n",
    "    #remove files from the whole set of files to avoid duplicates between the folders\n",
    "    files.remove(file_name)\n",
    "    shutil.copy(os.path.join(source, file_name), dest_train)\n",
    "    \n",
    "\n",
    "#print(sorted(files))\n",
    "#print(len(files))\n",
    "    \n",
    "train_path_file.close()"
   ]
  },
  {
   "cell_type": "code",
   "execution_count": 18,
   "id": "5fdf301e-b9be-4c86-bae0-cd8e20171083",
   "metadata": {},
   "outputs": [
    {
     "name": "stdout",
     "output_type": "stream",
     "text": [
      "73\n"
     ]
    }
   ],
   "source": [
    "#Randomly copy 50% of the remaining images from slides_images-folder to test-folder\n",
    "no_of_testfiles = round(len(files) * 0.5)\n",
    "\n",
    "#voc2coco requires txt file with all the xml-paths\n",
    "test_list = random.sample(files, no_of_testfiles)\n",
    "\n",
    "test_path_file = open(\"./data/test/file_paths_test.txt\", \"w+\")\n",
    "\n",
    "\n",
    "for file_name in test_list:\n",
    "    #create path file for voc2coco\n",
    "    test_path_file.write(os.path.join(path_xml_annotations, file_name[:-3]+\"xml\") + \"\\n\")\n",
    "    #remove files from the whole set of files to avoid duplicates between the folders    \n",
    "    shutil.copy(os.path.join(source, file_name), dest_test)\n",
    "\n",
    "for file_name in test_list:\n",
    "    files.remove(file_name)\n",
    "\n",
    "\n",
    "print(len(files))\n",
    "\n",
    "    \n",
    "#test_path_file.close()\n"
   ]
  },
  {
   "cell_type": "code",
   "execution_count": 19,
   "id": "ddb2ff59-eabb-4587-8096-0b558ce7aebf",
   "metadata": {},
   "outputs": [
    {
     "name": "stdout",
     "output_type": "stream",
     "text": [
      "73\n"
     ]
    }
   ],
   "source": [
    "#Copy the remaining images to the val folder    \n",
    "\n",
    "val_path_file = open(\"./data/val/file_paths_val.txt\", \"w+\")\n",
    "counter=0\n",
    "\n",
    "for file_name in files:\n",
    "    val_path_file.write(os.path.join(path_xml_annotations, file_name[:-3]+\"xml\") + \"\\n\")\n",
    "    shutil.copy(os.path.join(source, file_name), dest_val)\n",
    "\n",
    "    \n",
    "val_path_file.close()"
   ]
  }
 ],
 "metadata": {
  "kernelspec": {
   "display_name": "Python 3",
   "language": "python",
   "name": "python3"
  },
  "language_info": {
   "codemirror_mode": {
    "name": "ipython",
    "version": 3
   },
   "file_extension": ".py",
   "mimetype": "text/x-python",
   "name": "python",
   "nbconvert_exporter": "python",
   "pygments_lexer": "ipython3",
   "version": "3.7.10"
  }
 },
 "nbformat": 4,
 "nbformat_minor": 5
}
