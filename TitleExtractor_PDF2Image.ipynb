{
 "cells": [
  {
   "cell_type": "markdown",
   "metadata": {
    "id": "L2XKincbCKMR"
   },
   "source": [
    "## Import Packages"
   ]
  },
  {
   "cell_type": "code",
   "execution_count": 2,
   "metadata": {
    "colab": {
     "base_uri": "https://localhost:8080/"
    },
    "id": "KIZmdoB-Cbyx",
    "outputId": "8655aa00-48c1-4ac8-c00a-d933758db36a"
   },
   "outputs": [
    {
     "name": "stdout",
     "output_type": "stream",
     "text": [
      "Collecting pdf2image\n",
      "  Downloading https://files.pythonhosted.org/packages/7a/17/debc231f9bdb499e93389bb8679c7091ee9e4993dd92ed2da18aa896e2b6/pdf2image-1.15.1-py3-none-any.whl\n",
      "Requirement already satisfied: pillow in /usr/local/lib/python3.7/dist-packages (from pdf2image) (7.1.2)\n",
      "Installing collected packages: pdf2image\n",
      "Successfully installed pdf2image-1.15.1\n"
     ]
    }
   ],
   "source": [
    "!pip install pdf2image"
   ]
  },
  {
   "cell_type": "code",
   "execution_count": 53,
   "metadata": {
    "id": "CBFNEYgpBppl"
   },
   "outputs": [],
   "source": [
    "import tempfile\n",
    "from pdf2image import convert_from_path, convert_from_bytes\n",
    "from pdf2image.exceptions import (\n",
    "    PDFInfoNotInstalledError,\n",
    "    PDFPageCountError,\n",
    "    PDFSyntaxError\n",
    ")\n",
    "import os\n",
    "from PIL import Image"
   ]
  },
  {
   "cell_type": "markdown",
   "metadata": {
    "id": "hTGpN-LNCpM8"
   },
   "source": [
    "## Transform To Images"
   ]
  },
  {
   "cell_type": "code",
   "execution_count": 65,
   "metadata": {
    "id": "iACwJVcSCru3"
   },
   "outputs": [],
   "source": [
    "#Path to Lecture Slides PDF\n",
    "path_slides_pdf = \"./data/slides_pdf\"\n",
    "path_slides_images = \"./data/slides_images\"\n",
    "\n",
    "#Path of every pdf in one list\n",
    "pdf_paths = os.listdir(path_slides_pdf)\n",
    "\n",
    "#Convert every page in a lecture slide to an Image\n",
    "counter = 0\n",
    "for pdf in pdf_paths:\n",
    "    images = convert_from_path(os.path.join(path_slides_pdf,pdf))\n",
    "    for i in range(len(images)):\n",
    "        counter += 1\n",
    "        images[i].save(path_slides_images+'/page'+ str(counter) +'.jpg', 'JPEG')\n",
    "\n",
    "    \n"
   ]
  },
  {
   "cell_type": "markdown",
   "metadata": {},
   "source": [
    "The PDFs have been converted to jpg file. In the next step those images have to be annotated.\n",
    "This will be don with the help of the annotation tool https://www.makesense.ai\n"
   ]
  }
 ],
 "metadata": {
  "colab": {
   "collapsed_sections": [],
   "name": "TitleExtractor_Data_Preprocessing.ipynb",
   "provenance": []
  },
  "kernelspec": {
   "display_name": "Python 3",
   "language": "python",
   "name": "python3"
  },
  "language_info": {
   "codemirror_mode": {
    "name": "ipython",
    "version": 3
   },
   "file_extension": ".py",
   "mimetype": "text/x-python",
   "name": "python",
   "nbconvert_exporter": "python",
   "pygments_lexer": "ipython3",
   "version": "3.9.4"
  }
 },
 "nbformat": 4,
 "nbformat_minor": 4
}
