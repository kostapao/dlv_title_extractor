{
 "cells": [
  {
   "cell_type": "markdown",
   "id": "491a0589-6d80-458a-9d50-914d13d966f9",
   "metadata": {},
   "source": [
    "## Transform Voc XML to Coco"
   ]
  },
  {
   "cell_type": "markdown",
   "id": "a6952314-33c8-4300-b48b-f2cb51c435e7",
   "metadata": {},
   "source": [
    "The Voc2Coco script transforms the XML annotations to Coco format.\n",
    "To do that it requires a text file with all the lables, which in this case is just \"Title\", the file has maynually been created and saved as \"label.txt\". The script also requires a text file containing all paths of the xml annotation files."
   ]
  },
  {
   "cell_type": "code",
   "execution_count": 1,
   "id": "018769e7-86be-448a-bf44-46f5ee4811f5",
   "metadata": {},
   "outputs": [],
   "source": [
    "import os"
   ]
  },
  {
   "cell_type": "markdown",
   "id": "83c04b19-3746-4180-a6ad-f13ceb777f25",
   "metadata": {},
   "source": [
    "### Apply voc2coco"
   ]
  },
  {
   "cell_type": "code",
   "execution_count": 3,
   "id": "914d6801-efac-438c-a967-a63c8fed9373",
   "metadata": {},
   "outputs": [
    {
     "name": "stdout",
     "output_type": "stream",
     "text": [
      "Start converting !\n",
      "100%|███████████████████████████████████████| 342/342 [00:00<00:00, 7586.52it/s]\n"
     ]
    }
   ],
   "source": [
    "#Train\n",
    "!python3 voc2coco.py \\\n",
    "    --ann_paths_list ./data/train/file_paths_train.txt \\\n",
    "    --labels labels.txt \\\n",
    "    --output ./data/train/coco_train_annotations.json\n"
   ]
  },
  {
   "cell_type": "code",
   "execution_count": 6,
   "id": "1238dec9-a2b6-4111-bb56-a76b4545363a",
   "metadata": {},
   "outputs": [
    {
     "name": "stdout",
     "output_type": "stream",
     "text": [
      "Start converting !\n",
      "0it [00:00, ?it/s]\n"
     ]
    }
   ],
   "source": [
    "#Test\n",
    "!python3 voc2coco.py \\\n",
    "    --ann_paths_list ./data/test/file_paths_test.txt \\\n",
    "    --labels labels.txt \\\n",
    "    --output ./data/test/coco_test_annotations.json\n"
   ]
  },
  {
   "cell_type": "code",
   "execution_count": 5,
   "id": "cce7ae31-d613-4ca6-8472-79ff02f534e8",
   "metadata": {},
   "outputs": [
    {
     "name": "stdout",
     "output_type": "stream",
     "text": [
      "Start converting !\n",
      "100%|████████████████████████████████████████| 73/73 [00:00<00:00, 11517.61it/s]\n"
     ]
    }
   ],
   "source": [
    "#Validation\n",
    "!python3 voc2coco.py \\\n",
    "    --ann_paths_list ./data/val/file_paths_val.txt \\\n",
    "    --labels labels.txt \\\n",
    "    --output ./data/val/coco_val_annotations.json\n"
   ]
  },
  {
   "cell_type": "code",
   "execution_count": null,
   "id": "9ea4633a-fc52-4a20-87d3-4cb56b9951e8",
   "metadata": {},
   "outputs": [],
   "source": []
  }
 ],
 "metadata": {
  "kernelspec": {
   "display_name": "Python 3",
   "language": "python",
   "name": "python3"
  },
  "language_info": {
   "codemirror_mode": {
    "name": "ipython",
    "version": 3
   },
   "file_extension": ".py",
   "mimetype": "text/x-python",
   "name": "python",
   "nbconvert_exporter": "python",
   "pygments_lexer": "ipython3",
   "version": "3.7.10"
  }
 },
 "nbformat": 4,
 "nbformat_minor": 5
}
